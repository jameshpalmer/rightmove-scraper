{
 "cells": [
  {
   "cell_type": "markdown",
   "metadata": {},
   "source": [
    "# Scraping Rightmove is easy.\n",
    "\n",
    "We only need to request the url of the results page.\n",
    "\n",
    "The json of properties is contained in a script tag in the html source."
   ]
  },
  {
   "cell_type": "code",
   "execution_count": 13,
   "metadata": {},
   "outputs": [],
   "source": [
    "import requests\n",
    "from bs4 import BeautifulSoup\n",
    "import json\n",
    "from datetime import datetime"
   ]
  },
  {
   "cell_type": "markdown",
   "metadata": {},
   "source": [
    "Here we use the requests library to get the html source of the results page.\n",
    "\n",
    "Note that we need to set the User-Agent header to avoid getting a 403 Forbidden response."
   ]
  },
  {
   "cell_type": "code",
   "execution_count": 30,
   "metadata": {},
   "outputs": [],
   "source": [
    "url = 'https://www.rightmove.co.uk/property-to-rent/find.html?searchType=RENT&locationIdentifier=REGION%5E550&insId=1&radius=0.0&minPrice=&maxPrice=1000&minBedrooms=1&maxBedrooms=&displayPropertyType=&maxDaysSinceAdded=&sortByPriceDescending=&_includeLetAgreed=on&primaryDisplayPropertyType=&secondaryDisplayPropertyType=&oldDisplayPropertyType=&oldPrimaryDisplayPropertyType=&letType=&letFurnishType=&houseFlatShare='\n",
    "source = requests.get(url, headers={\n",
    "  \"User-Agent\" : \"Mozilla/5.0 (X11; Linux x86_64) AppleWebKit/537.36 (KHTML, like Gecko) Chrome/51.0.2704.103 Safari/537.36\"\n",
    "})"
   ]
  },
  {
   "cell_type": "markdown",
   "metadata": {},
   "source": [
    "Next we use BeautifulSoup to parse the html source, and locate the script tag containing the json of properties.\n",
    "\n",
    "The location of this script tag may not be stable, but as of Jul 2023 it is the 6th script tag."
   ]
  },
  {
   "cell_type": "code",
   "execution_count": 32,
   "metadata": {},
   "outputs": [],
   "source": [
    "# Get script tag\n",
    "soup = BeautifulSoup(source.text, 'html.parser')\n",
    "scripts = soup.findAll('script')\n",
    "data = json.loads(''.join(scripts[5].text.split(' = ')[1:]))"
   ]
  },
  {
   "cell_type": "code",
   "execution_count": 34,
   "metadata": {},
   "outputs": [
    {
     "data": {
      "text/plain": [
       "{'id': 137465201,\n",
       " 'bedrooms': 3,\n",
       " 'bathrooms': 1,\n",
       " 'numberOfImages': 10,\n",
       " 'numberOfFloorplans': 0,\n",
       " 'numberOfVirtualTours': 0,\n",
       " 'summary': 'Rarely available (3) bedroom top (2nd) floor flat in the Trinity Drive area of Uddingston. Initial highlights include dual aspect windows in the living room, fully equipped kitchen, bath & shower options, integrated storage in all bedrooms, ample car parking & walking distance to train station etc.',\n",
       " 'displayAddress': 'Trinity Drive, Uddingston, Glasgow, G71',\n",
       " 'countryCode': 'GB',\n",
       " 'location': {'latitude': 55.81703, 'longitude': -4.08348},\n",
       " 'propertyImages': {'images': [{'srcUrl': 'https://media.rightmove.co.uk:443/dir/crop/10:9-16:9/130k/129397/137465201/129397_RML170723_IMG_00_0000_max_476x317.jpeg',\n",
       "    'url': '130k/129397/137465201/129397_RML170723_IMG_00_0000.jpeg',\n",
       "    'caption': 'Front external.'},\n",
       "   {'srcUrl': 'https://media.rightmove.co.uk:443/dir/crop/10:9-16:9/130k/129397/137465201/129397_RML170723_IMG_02_0000_max_476x317.jpeg',\n",
       "    'url': '130k/129397/137465201/129397_RML170723_IMG_02_0000.jpeg',\n",
       "    'caption': 'Living room.'},\n",
       "   {'srcUrl': 'https://media.rightmove.co.uk:443/dir/crop/10:9-16:9/130k/129397/137465201/129397_RML170723_IMG_03_0000_max_476x317.jpeg',\n",
       "    'url': '130k/129397/137465201/129397_RML170723_IMG_03_0000.jpeg',\n",
       "    'caption': 'Kitchen.'},\n",
       "   {'srcUrl': 'https://media.rightmove.co.uk:443/dir/crop/10:9-16:9/130k/129397/137465201/129397_RML170723_IMG_01_0000_max_476x317.jpeg',\n",
       "    'url': '130k/129397/137465201/129397_RML170723_IMG_01_0000.jpeg',\n",
       "    'caption': 'Living room.'},\n",
       "   {'srcUrl': 'https://media.rightmove.co.uk:443/dir/crop/10:9-16:9/130k/129397/137465201/129397_RML170723_IMG_04_0000_max_476x317.jpeg',\n",
       "    'url': '130k/129397/137465201/129397_RML170723_IMG_04_0000.jpeg',\n",
       "    'caption': 'Bedroom 1.'},\n",
       "   {'srcUrl': 'https://media.rightmove.co.uk:443/dir/crop/10:9-16:9/130k/129397/137465201/129397_RML170723_IMG_05_0000_max_476x317.jpeg',\n",
       "    'url': '130k/129397/137465201/129397_RML170723_IMG_05_0000.jpeg',\n",
       "    'caption': 'Bathroom.'},\n",
       "   {'srcUrl': 'https://media.rightmove.co.uk:443/dir/crop/10:9-16:9/130k/129397/137465201/129397_RML170723_IMG_06_0000_max_476x317.jpeg',\n",
       "    'url': '130k/129397/137465201/129397_RML170723_IMG_06_0000.jpeg',\n",
       "    'caption': 'Bedroom 2.'},\n",
       "   {'srcUrl': 'https://media.rightmove.co.uk:443/dir/crop/10:9-16:9/130k/129397/137465201/129397_RML170723_IMG_07_0000_max_476x317.jpeg',\n",
       "    'url': '130k/129397/137465201/129397_RML170723_IMG_07_0000.jpeg',\n",
       "    'caption': 'Bedroom 3.'},\n",
       "   {'srcUrl': 'https://media.rightmove.co.uk:443/dir/crop/10:9-16:9/130k/129397/137465201/129397_RML170723_IMG_08_0000_max_476x317.jpeg',\n",
       "    'url': '130k/129397/137465201/129397_RML170723_IMG_08_0000.jpeg',\n",
       "    'caption': 'Rear external.'},\n",
       "   {'srcUrl': 'https://media.rightmove.co.uk:443/dir/crop/10:9-16:9/130k/129397/137465201/129397_RML170723_IMG_09_0000_max_476x317.jpeg',\n",
       "    'url': '130k/129397/137465201/129397_RML170723_IMG_09_0000.jpeg',\n",
       "    'caption': 'Communal garden.'}],\n",
       "  'mainImageSrc': 'https://media.rightmove.co.uk:443/dir/crop/10:9-16:9/130k/129397/137465201/129397_RML170723_IMG_00_0000_max_476x317.jpeg',\n",
       "  'mainMapImageSrc': 'https://media.rightmove.co.uk:443/dir/crop/10:9-16:9/130k/129397/137465201/129397_RML170723_IMG_00_0000_max_296x197.jpeg'},\n",
       " 'propertySubType': 'Flat',\n",
       " 'listingUpdate': {'listingUpdateReason': 'new',\n",
       "  'listingUpdateDate': '2023-07-18T15:37:07Z'},\n",
       " 'premiumListing': False,\n",
       " 'featuredProperty': True,\n",
       " 'price': {'amount': 995,\n",
       "  'frequency': 'monthly',\n",
       "  'currencyCode': 'GBP',\n",
       "  'displayPrices': [{'displayPrice': '£995 pcm', 'displayPriceQualifier': ''},\n",
       "   {'displayPrice': '£230 pw', 'displayPriceQualifier': ''}]},\n",
       " 'customer': {'branchId': 129397,\n",
       "  'brandPlusLogoURI': '/company/clogo_rmchoice_46348_0000.jpeg',\n",
       "  'contactTelephone': '01698 757108',\n",
       "  'branchDisplayName': 'Property Angels Estate Agents, Bothwell',\n",
       "  'branchName': 'Bothwell',\n",
       "  'brandTradingName': 'Property Angels Estate Agents',\n",
       "  'branchLandingPageUrl': '/estate-agents/agent/Property-Angels-Estate-Agents/Bothwell-129397.html',\n",
       "  'development': False,\n",
       "  'showReducedProperties': True,\n",
       "  'commercial': False,\n",
       "  'showOnMap': True,\n",
       "  'enhancedListing': False,\n",
       "  'developmentContent': None,\n",
       "  'buildToRent': False,\n",
       "  'buildToRentBenefits': [],\n",
       "  'brandPlusLogoUrl': 'https://media.rightmove.co.uk:443/dir/company/clogo_rmchoice_46348_0000_max_100x50.jpeg'},\n",
       " 'distance': None,\n",
       " 'transactionType': 'rent',\n",
       " 'productLabel': {'productLabelText': '', 'spotlightLabel': False},\n",
       " 'commercial': False,\n",
       " 'development': False,\n",
       " 'residential': True,\n",
       " 'students': False,\n",
       " 'auction': False,\n",
       " 'feesApply': False,\n",
       " 'feesApplyText': None,\n",
       " 'displaySize': '',\n",
       " 'showOnMap': True,\n",
       " 'propertyUrl': '/properties/137465201#/?channel=RES_LET',\n",
       " 'contactUrl': '/property-to-rent/contactBranch.html?propertyId=137465201',\n",
       " 'staticMapUrl': None,\n",
       " 'channel': 'RENT',\n",
       " 'firstVisibleDate': '2023-07-18T15:31:49Z',\n",
       " 'keywords': [],\n",
       " 'keywordMatchType': 'no_keyword',\n",
       " 'saved': False,\n",
       " 'hidden': False,\n",
       " 'onlineViewingsAvailable': False,\n",
       " 'lozengeModel': {'matchingLozenges': []},\n",
       " 'hasBrandPlus': True,\n",
       " 'displayStatus': '',\n",
       " 'enquiredTimestamp': None,\n",
       " 'heading': 'Featured Property',\n",
       " 'addedOrReduced': 'Added on 18/07/2023',\n",
       " 'formattedBranchName': ' by Property Angels Estate Agents, Bothwell',\n",
       " 'formattedDistance': '',\n",
       " 'propertyTypeFullDescription': '3 bedroom flat',\n",
       " 'isRecent': False,\n",
       " 'enhancedListing': False}"
      ]
     },
     "execution_count": 34,
     "metadata": {},
     "output_type": "execute_result"
    }
   ],
   "source": [
    "data['properties'][0]"
   ]
  }
 ],
 "metadata": {
  "kernelspec": {
   "display_name": "Python 3.10.0 64-bit",
   "language": "python",
   "name": "python3"
  },
  "language_info": {
   "codemirror_mode": {
    "name": "ipython",
    "version": 3
   },
   "file_extension": ".py",
   "mimetype": "text/x-python",
   "name": "python",
   "nbconvert_exporter": "python",
   "pygments_lexer": "ipython3",
   "version": "3.10.0"
  },
  "orig_nbformat": 4,
  "vscode": {
   "interpreter": {
    "hash": "aee8b7b246df8f9039afb4144a1f6fd8d2ca17a180786b69acc140d282b71a49"
   }
  }
 },
 "nbformat": 4,
 "nbformat_minor": 2
}
